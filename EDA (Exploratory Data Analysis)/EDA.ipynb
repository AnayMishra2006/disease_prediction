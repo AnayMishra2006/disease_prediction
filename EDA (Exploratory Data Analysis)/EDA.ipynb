{
 "cells": [
  {
   "cell_type": "code",
   "execution_count": 2,
   "id": "6480521d",
   "metadata": {},
   "outputs": [],
   "source": [
    "import pandas as pd \n",
    "import numpy as np \n",
    "import matplotlib as plt\n",
    "%matplotlib inline\n",
    "import seaborn as sns "
   ]
  },
  {
   "cell_type": "code",
   "execution_count": 3,
   "id": "742a6c6b",
   "metadata": {},
   "outputs": [
    {
     "data": {
      "text/html": [
       "<div>\n",
       "<style scoped>\n",
       "    .dataframe tbody tr th:only-of-type {\n",
       "        vertical-align: middle;\n",
       "    }\n",
       "\n",
       "    .dataframe tbody tr th {\n",
       "        vertical-align: top;\n",
       "    }\n",
       "\n",
       "    .dataframe thead th {\n",
       "        text-align: right;\n",
       "    }\n",
       "</style>\n",
       "<table border=\"1\" class=\"dataframe\">\n",
       "  <thead>\n",
       "    <tr style=\"text-align: right;\">\n",
       "      <th></th>\n",
       "      <th>WBC</th>\n",
       "      <th>LYMp</th>\n",
       "      <th>NEUTp</th>\n",
       "      <th>LYMn</th>\n",
       "      <th>NEUTn</th>\n",
       "      <th>RBC</th>\n",
       "      <th>HGB</th>\n",
       "      <th>HCT</th>\n",
       "      <th>MCV</th>\n",
       "      <th>MCH</th>\n",
       "      <th>MCHC</th>\n",
       "      <th>PLT</th>\n",
       "      <th>PDW</th>\n",
       "      <th>PCT</th>\n",
       "      <th>Diagnosis</th>\n",
       "    </tr>\n",
       "  </thead>\n",
       "  <tbody>\n",
       "    <tr>\n",
       "      <th>0</th>\n",
       "      <td>10.0</td>\n",
       "      <td>43.2</td>\n",
       "      <td>50.1</td>\n",
       "      <td>4.3</td>\n",
       "      <td>5.0</td>\n",
       "      <td>2.77</td>\n",
       "      <td>7.3</td>\n",
       "      <td>24.2</td>\n",
       "      <td>87.7</td>\n",
       "      <td>26.3</td>\n",
       "      <td>30.1</td>\n",
       "      <td>189.0</td>\n",
       "      <td>12.5</td>\n",
       "      <td>0.17</td>\n",
       "      <td>Normocytic hypochromic anemia</td>\n",
       "    </tr>\n",
       "    <tr>\n",
       "      <th>1</th>\n",
       "      <td>10.0</td>\n",
       "      <td>42.4</td>\n",
       "      <td>52.3</td>\n",
       "      <td>4.2</td>\n",
       "      <td>5.3</td>\n",
       "      <td>2.84</td>\n",
       "      <td>7.3</td>\n",
       "      <td>25.0</td>\n",
       "      <td>88.2</td>\n",
       "      <td>25.7</td>\n",
       "      <td>20.2</td>\n",
       "      <td>180.0</td>\n",
       "      <td>12.5</td>\n",
       "      <td>0.16</td>\n",
       "      <td>Normocytic hypochromic anemia</td>\n",
       "    </tr>\n",
       "    <tr>\n",
       "      <th>2</th>\n",
       "      <td>7.2</td>\n",
       "      <td>30.7</td>\n",
       "      <td>60.7</td>\n",
       "      <td>2.2</td>\n",
       "      <td>4.4</td>\n",
       "      <td>3.97</td>\n",
       "      <td>9.0</td>\n",
       "      <td>30.5</td>\n",
       "      <td>77.0</td>\n",
       "      <td>22.6</td>\n",
       "      <td>29.5</td>\n",
       "      <td>148.0</td>\n",
       "      <td>14.3</td>\n",
       "      <td>0.14</td>\n",
       "      <td>Iron deficiency anemia</td>\n",
       "    </tr>\n",
       "    <tr>\n",
       "      <th>3</th>\n",
       "      <td>6.0</td>\n",
       "      <td>30.2</td>\n",
       "      <td>63.5</td>\n",
       "      <td>1.8</td>\n",
       "      <td>3.8</td>\n",
       "      <td>4.22</td>\n",
       "      <td>3.8</td>\n",
       "      <td>32.8</td>\n",
       "      <td>77.9</td>\n",
       "      <td>23.2</td>\n",
       "      <td>29.8</td>\n",
       "      <td>143.0</td>\n",
       "      <td>11.3</td>\n",
       "      <td>0.12</td>\n",
       "      <td>Iron deficiency anemia</td>\n",
       "    </tr>\n",
       "    <tr>\n",
       "      <th>4</th>\n",
       "      <td>4.2</td>\n",
       "      <td>39.1</td>\n",
       "      <td>53.7</td>\n",
       "      <td>1.6</td>\n",
       "      <td>2.3</td>\n",
       "      <td>3.93</td>\n",
       "      <td>0.4</td>\n",
       "      <td>316.0</td>\n",
       "      <td>80.6</td>\n",
       "      <td>23.9</td>\n",
       "      <td>29.7</td>\n",
       "      <td>236.0</td>\n",
       "      <td>12.8</td>\n",
       "      <td>0.22</td>\n",
       "      <td>Normocytic hypochromic anemia</td>\n",
       "    </tr>\n",
       "  </tbody>\n",
       "</table>\n",
       "</div>"
      ],
      "text/plain": [
       "    WBC  LYMp  NEUTp  LYMn  NEUTn   RBC  HGB    HCT   MCV   MCH  MCHC    PLT  \\\n",
       "0  10.0  43.2   50.1   4.3    5.0  2.77  7.3   24.2  87.7  26.3  30.1  189.0   \n",
       "1  10.0  42.4   52.3   4.2    5.3  2.84  7.3   25.0  88.2  25.7  20.2  180.0   \n",
       "2   7.2  30.7   60.7   2.2    4.4  3.97  9.0   30.5  77.0  22.6  29.5  148.0   \n",
       "3   6.0  30.2   63.5   1.8    3.8  4.22  3.8   32.8  77.9  23.2  29.8  143.0   \n",
       "4   4.2  39.1   53.7   1.6    2.3  3.93  0.4  316.0  80.6  23.9  29.7  236.0   \n",
       "\n",
       "    PDW   PCT                      Diagnosis  \n",
       "0  12.5  0.17  Normocytic hypochromic anemia  \n",
       "1  12.5  0.16  Normocytic hypochromic anemia  \n",
       "2  14.3  0.14         Iron deficiency anemia  \n",
       "3  11.3  0.12         Iron deficiency anemia  \n",
       "4  12.8  0.22  Normocytic hypochromic anemia  "
      ]
     },
     "execution_count": 3,
     "metadata": {},
     "output_type": "execute_result"
    }
   ],
   "source": [
    "df=pd.read_csv('diagnosed_cbc_data_v4.csv')\n",
    "df.head()"
   ]
  },
  {
   "cell_type": "code",
   "execution_count": 4,
   "id": "5686c537",
   "metadata": {},
   "outputs": [
    {
     "data": {
      "text/plain": [
       "WBC          0\n",
       "LYMp         0\n",
       "NEUTp        0\n",
       "LYMn         0\n",
       "NEUTn        0\n",
       "RBC          0\n",
       "HGB          0\n",
       "HCT          0\n",
       "MCV          0\n",
       "MCH          0\n",
       "MCHC         0\n",
       "PLT          0\n",
       "PDW          0\n",
       "PCT          0\n",
       "Diagnosis    0\n",
       "dtype: int64"
      ]
     },
     "execution_count": 4,
     "metadata": {},
     "output_type": "execute_result"
    }
   ],
   "source": [
    "df.isnull().sum()"
   ]
  },
  {
   "cell_type": "code",
   "execution_count": 17,
   "id": "f7f5544a",
   "metadata": {},
   "outputs": [],
   "source": [
    "unique=df['Diagnosis'].unique()"
   ]
  },
  {
   "cell_type": "code",
   "execution_count": null,
   "id": "bc0c30bc",
   "metadata": {},
   "outputs": [],
   "source": []
  },
  {
   "cell_type": "code",
   "execution_count": null,
   "id": "7dbeefc6",
   "metadata": {},
   "outputs": [],
   "source": []
  },
  {
   "cell_type": "code",
   "execution_count": null,
   "id": "79dfa578",
   "metadata": {},
   "outputs": [],
   "source": []
  },
  {
   "cell_type": "code",
   "execution_count": null,
   "id": "9f463077",
   "metadata": {},
   "outputs": [],
   "source": []
  },
  {
   "cell_type": "code",
   "execution_count": null,
   "id": "257184c3",
   "metadata": {},
   "outputs": [],
   "source": []
  },
  {
   "cell_type": "code",
   "execution_count": null,
   "id": "b469860a",
   "metadata": {},
   "outputs": [],
   "source": []
  },
  {
   "cell_type": "code",
   "execution_count": null,
   "id": "3d6dc57f",
   "metadata": {},
   "outputs": [],
   "source": []
  },
  {
   "cell_type": "code",
   "execution_count": null,
   "id": "5205a99d",
   "metadata": {},
   "outputs": [],
   "source": []
  }
 ],
 "metadata": {
  "kernelspec": {
   "display_name": "Python 3",
   "language": "python",
   "name": "python3"
  },
  "language_info": {
   "codemirror_mode": {
    "name": "ipython",
    "version": 3
   },
   "file_extension": ".py",
   "mimetype": "text/x-python",
   "name": "python",
   "nbconvert_exporter": "python",
   "pygments_lexer": "ipython3",
   "version": "3.13.5"
  }
 },
 "nbformat": 4,
 "nbformat_minor": 5
}
